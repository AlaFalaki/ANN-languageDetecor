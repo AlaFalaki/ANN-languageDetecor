{
  "nbformat": 4,
  "nbformat_minor": 0,
  "metadata": {
    "colab": {
      "provenance": [],
      "authorship_tag": "ABX9TyPeSwnwUMQgLzqA/9Bqkmzj",
      "include_colab_link": true
    },
    "kernelspec": {
      "name": "python3",
      "display_name": "Python 3"
    },
    "language_info": {
      "name": "python"
    }
  },
  "cells": [
    {
      "cell_type": "markdown",
      "metadata": {
        "id": "view-in-github",
        "colab_type": "text"
      },
      "source": [
        "<a href=\"https://colab.research.google.com/github/AlaFalaki/ANN-languageDetecor/blob/master/notebooks/Chapter%2007%20-%20What_are_Text_Splitters_and_Why_They_are_Useful_.ipynb\" target=\"_parent\"><img src=\"https://colab.research.google.com/assets/colab-badge.svg\" alt=\"Open In Colab\"/></a>"
      ]
    },
    {
      "cell_type": "code",
      "execution_count": null,
      "metadata": {
        "colab": {
          "base_uri": "https://localhost:8080/"
        },
        "id": "JRhvwNoLQr1l",
        "outputId": "d33e5bc9-bf03-4707-96d8-3988f468b8d1"
      },
      "outputs": [
        {
          "output_type": "stream",
          "name": "stdout",
          "text": [
            "\u001b[2K     \u001b[90m━━━━━━━━━━━━━━━━━━━━━━━━━━━━━━━━━━━━━━━━\u001b[0m \u001b[32m1.1/1.1 MB\u001b[0m \u001b[31m6.3 MB/s\u001b[0m eta \u001b[36m0:00:00\u001b[0m\n",
            "\u001b[2K     \u001b[90m━━━━━━━━━━━━━━━━━━━━━━━━━━━━━━━━━━━━━━━━\u001b[0m \u001b[32m1.7/1.7 MB\u001b[0m \u001b[31m10.1 MB/s\u001b[0m eta \u001b[36m0:00:00\u001b[0m\n",
            "\u001b[2K     \u001b[90m━━━━━━━━━━━━━━━━━━━━━━━━━━━━━━━━━━━━━━\u001b[0m \u001b[32m256.1/256.1 kB\u001b[0m \u001b[31m11.1 MB/s\u001b[0m eta \u001b[36m0:00:00\u001b[0m\n",
            "\u001b[2K     \u001b[90m━━━━━━━━━━━━━━━━━━━━━━━━━━━━━━━━━━━━━━━━\u001b[0m \u001b[32m90.0/90.0 kB\u001b[0m \u001b[31m3.8 MB/s\u001b[0m eta \u001b[36m0:00:00\u001b[0m\n",
            "\u001b[2K     \u001b[90m━━━━━━━━━━━━━━━━━━━━━━━━━━━━━━━━━━━━━━━━\u001b[0m \u001b[32m49.4/49.4 kB\u001b[0m \u001b[31m2.1 MB/s\u001b[0m eta \u001b[36m0:00:00\u001b[0m\n",
            "\u001b[?25h"
          ]
        }
      ],
      "source": [
        "!pip install -q langchain==0.0.208 tiktoken pypdf"
      ]
    },
    {
      "cell_type": "code",
      "source": [
        "!wget https://www.cheat-sheets.org/saved-copy/The%20One%20Page%20Linux%20Manual.pdf"
      ],
      "metadata": {
        "colab": {
          "base_uri": "https://localhost:8080/"
        },
        "id": "VxeKBo6x55sQ",
        "outputId": "4e6575be-79da-487f-cbee-f704026f6877"
      },
      "execution_count": null,
      "outputs": [
        {
          "output_type": "stream",
          "name": "stdout",
          "text": [
            "--2023-07-25 16:35:36--  https://www.cheat-sheets.org/saved-copy/The%20One%20Page%20Linux%20Manual.pdf\n",
            "Resolving www.cheat-sheets.org (www.cheat-sheets.org)... 90.156.201.26, 90.156.201.79, 90.156.201.114, ...\n",
            "Connecting to www.cheat-sheets.org (www.cheat-sheets.org)|90.156.201.26|:443... connected.\n",
            "HTTP request sent, awaiting response... 200 OK\n",
            "Length: 96538 (94K) [application/pdf]\n",
            "Saving to: ‘The One Page Linux Manual.pdf’\n",
            "\n",
            "The One Page Linux  100%[===================>]  94.28K   348KB/s    in 0.3s    \n",
            "\n",
            "2023-07-25 16:35:38 (348 KB/s) - ‘The One Page Linux Manual.pdf’ saved [96538/96538]\n",
            "\n"
          ]
        }
      ]
    },
    {
      "cell_type": "code",
      "source": [
        "from langchain.document_loaders import PyPDFLoader\n",
        "loader = PyPDFLoader(\"The One Page Linux Manual.pdf\")\n",
        "pages = loader.load_and_split()"
      ],
      "metadata": {
        "id": "yCN2p_HlQuSX"
      },
      "execution_count": null,
      "outputs": []
    },
    {
      "cell_type": "code",
      "source": [
        "from langchain.text_splitter import CharacterTextSplitter\n",
        "text_splitter = CharacterTextSplitter(chunk_size=1000, chunk_overlap=20)\n",
        "texts = text_splitter.split_documents(pages)\n",
        "\n",
        "print(texts[0])"
      ],
      "metadata": {
        "colab": {
          "base_uri": "https://localhost:8080/"
        },
        "id": "mW9ujW6KQ5ma",
        "outputId": "42e6a7c8-2926-432f-f726-336171737cf9"
      },
      "execution_count": null,
      "outputs": [
        {
          "output_type": "stream",
          "name": "stdout",
          "text": [
            "page_content='THE ONE     PAGE LINUX MANUALA summary of useful Linux commands\\nVersion 3.0 May 1999 squadron@powerup.com.au\\nStarting & Stopping\\nshutdown -h now Shutdown the system now and do not\\nreboot\\nhalt Stop all processes - same as above\\nshutdown -r 5 Shutdown the system in 5 minutes and\\nreboot\\nshutdown -r now Shutdown the system now and reboot\\nreboot Stop all processes and then reboot - same\\nas above\\nstartx Start the X system\\nAccessing & mounting file systems\\nmount -t iso9660 /dev/cdrom\\n/mnt/cdromMount the device cdrom\\nand call it cdrom under the\\n/mnt directory\\nmount -t msdos /dev/hdd\\n/mnt/ddriveMount hard disk “d” as a\\nmsdos file system and call\\nit ddrive under the /mnt\\ndirectory\\nmount -t vfat /dev/hda1\\n/mnt/cdriveMount hard disk “a” as a\\nVFAT file system and call it\\ncdrive under the /mnt\\ndirectory\\numount /mnt/cdrom Unmount the cdrom\\nFinding files and text within files\\nfind / -name  fname Starting with the root directory, look\\nfor the file called fname\\nfind / -name ”*fname* ” Starting with the root directory, look\\nfor the file containing the string fname\\nlocate missingfilename Find a file called missingfilename\\nusing the locate command - this\\nassumes you have already used the\\ncommand updatedb (see next)\\nupdatedb Create or update the database of files\\non all file systems attached to the linux\\nroot directory\\nwhich missingfilename Show the subdirectory containing the\\nexecutable file  called missingfilename\\ngrep textstringtofind\\n/dirStarting with the directory called dir ,\\nlook for and list all files containing\\ntextstringtofind\\nThe X Window System\\nxvidtune Run the X graphics tuning utility\\nXF86Setup Run the X configuration menu with\\nautomatic probing of graphics cards\\nXconfigurator Run another X configuration menu with\\nautomatic probing of graphics cards\\nxf86config Run a text based X configuration menu\\nMoving, copying, deleting & viewing files\\nls -l List files in current directory using\\nlong format\\nls -F List files in current directory and\\nindicate the file type\\nls -laC List all files in current directory in\\nlong format and display in columnsrm name Remove a file or directory called\\nname\\nrm -rf name Kill off an entire directory and all it’s\\nincludes files and subdirectories\\ncp filename\\n/home/dirnameCopy the file called filename to the\\n/home/dirname directory\\nmv filename\\n/home/dirnameMove the file called filename to the\\n/home/dirname directory\\ncat filetoview Display the file called filetoview\\nman -k keyword Display man pages containing\\nkeyword\\nmore filetoview Display the file called filetoview one\\npage at a time, proceed to next page\\nusing the spacebar\\nhead filetoview Display the first 10 lines of the file\\ncalled filetoview\\nhead -20 filetoview Display the first 20 lines of the file\\ncalled filetoview\\ntail filetoview Display the last 10 lines of the file\\ncalled filetoview\\ntail -20 filetoview Display the last 20 lines of the file\\ncalled filetoview\\nInstalling software for Linux\\nrpm -ihv name.rpm Install the rpm package called name\\nrpm -Uhv name.rpm Upgrade the rpm package called\\nname\\nrpm -e package Delete the rpm package called\\npackage\\nrpm -l package List the files in the package called\\npackage\\nrpm -ql package List the files and state the installed\\nversion of the package called\\npackage\\nrpm -i --force package Reinstall the rpm package called\\nname having deleted parts of it (not\\ndeleting using rpm -e)\\ntar -zxvf archive.tar.gz or\\ntar -zxvf archive.tgzDecompress the files contained in\\nthe zipped and tarred archive called\\narchive\\n./configure Execute the script preparing the\\ninstalled files for compiling\\nUser Administration\\nadduser accountname Create a new user call accountname\\npasswd accountname Give accountname a new password\\nsu Log in as superuser from current login\\nexit Stop being superuser and revert to\\nnormal user\\nLittle known tips and tricks\\nifconfig List ip addresses for all devices on\\nthe machine\\napropos subject List manual pages for subject\\nusermount Executes graphical application for\\nmounting and unmounting file\\nsystems' metadata={'source': 'The One Page Linux Manual.pdf', 'page': 0}\n"
          ]
        }
      ]
    },
    {
      "cell_type": "code",
      "source": [
        "print (f\"You have {len(texts)} documents\")"
      ],
      "metadata": {
        "colab": {
          "base_uri": "https://localhost:8080/"
        },
        "id": "g5wpgZI0RKBJ",
        "outputId": "b44ee37c-9821-4d62-95f2-f07c0bc287d0"
      },
      "execution_count": null,
      "outputs": [
        {
          "output_type": "stream",
          "name": "stdout",
          "text": [
            "You have 2 documents\n"
          ]
        }
      ]
    },
    {
      "cell_type": "code",
      "source": [
        "print (\"Preview:\")\n",
        "print (texts[0].page_content)"
      ],
      "metadata": {
        "id": "Rw4Wzt7N7F7k",
        "outputId": "d3d8eb0e-ecd1-4731-8d3e-e758ba442c95",
        "colab": {
          "base_uri": "https://localhost:8080/"
        }
      },
      "execution_count": null,
      "outputs": [
        {
          "output_type": "stream",
          "name": "stdout",
          "text": [
            "Preview:\n",
            "THE ONE     PAGE LINUX MANUALA summary of useful Linux commands\n",
            "Version 3.0 May 1999 squadron@powerup.com.au\n",
            "Starting & Stopping\n",
            "shutdown -h now Shutdown the system now and do not\n",
            "reboot\n",
            "halt Stop all processes - same as above\n",
            "shutdown -r 5 Shutdown the system in 5 minutes and\n",
            "reboot\n",
            "shutdown -r now Shutdown the system now and reboot\n",
            "reboot Stop all processes and then reboot - same\n",
            "as above\n",
            "startx Start the X system\n",
            "Accessing & mounting file systems\n",
            "mount -t iso9660 /dev/cdrom\n",
            "/mnt/cdromMount the device cdrom\n",
            "and call it cdrom under the\n",
            "/mnt directory\n",
            "mount -t msdos /dev/hdd\n",
            "/mnt/ddriveMount hard disk “d” as a\n",
            "msdos file system and call\n",
            "it ddrive under the /mnt\n",
            "directory\n",
            "mount -t vfat /dev/hda1\n",
            "/mnt/cdriveMount hard disk “a” as a\n",
            "VFAT file system and call it\n",
            "cdrive under the /mnt\n",
            "directory\n",
            "umount /mnt/cdrom Unmount the cdrom\n",
            "Finding files and text within files\n",
            "find / -name  fname Starting with the root directory, look\n",
            "for the file called fname\n",
            "find / -name ”*fname* ” Starting with the root directory, look\n",
            "for the file containing the string fname\n",
            "locate missingfilename Find a file called missingfilename\n",
            "using the locate command - this\n",
            "assumes you have already used the\n",
            "command updatedb (see next)\n",
            "updatedb Create or update the database of files\n",
            "on all file systems attached to the linux\n",
            "root directory\n",
            "which missingfilename Show the subdirectory containing the\n",
            "executable file  called missingfilename\n",
            "grep textstringtofind\n",
            "/dirStarting with the directory called dir ,\n",
            "look for and list all files containing\n",
            "textstringtofind\n",
            "The X Window System\n",
            "xvidtune Run the X graphics tuning utility\n",
            "XF86Setup Run the X configuration menu with\n",
            "automatic probing of graphics cards\n",
            "Xconfigurator Run another X configuration menu with\n",
            "automatic probing of graphics cards\n",
            "xf86config Run a text based X configuration menu\n",
            "Moving, copying, deleting & viewing files\n",
            "ls -l List files in current directory using\n",
            "long format\n",
            "ls -F List files in current directory and\n",
            "indicate the file type\n",
            "ls -laC List all files in current directory in\n",
            "long format and display in columnsrm name Remove a file or directory called\n",
            "name\n",
            "rm -rf name Kill off an entire directory and all it’s\n",
            "includes files and subdirectories\n",
            "cp filename\n",
            "/home/dirnameCopy the file called filename to the\n",
            "/home/dirname directory\n",
            "mv filename\n",
            "/home/dirnameMove the file called filename to the\n",
            "/home/dirname directory\n",
            "cat filetoview Display the file called filetoview\n",
            "man -k keyword Display man pages containing\n",
            "keyword\n",
            "more filetoview Display the file called filetoview one\n",
            "page at a time, proceed to next page\n",
            "using the spacebar\n",
            "head filetoview Display the first 10 lines of the file\n",
            "called filetoview\n",
            "head -20 filetoview Display the first 20 lines of the file\n",
            "called filetoview\n",
            "tail filetoview Display the last 10 lines of the file\n",
            "called filetoview\n",
            "tail -20 filetoview Display the last 20 lines of the file\n",
            "called filetoview\n",
            "Installing software for Linux\n",
            "rpm -ihv name.rpm Install the rpm package called name\n",
            "rpm -Uhv name.rpm Upgrade the rpm package called\n",
            "name\n",
            "rpm -e package Delete the rpm package called\n",
            "package\n",
            "rpm -l package List the files in the package called\n",
            "package\n",
            "rpm -ql package List the files and state the installed\n",
            "version of the package called\n",
            "package\n",
            "rpm -i --force package Reinstall the rpm package called\n",
            "name having deleted parts of it (not\n",
            "deleting using rpm -e)\n",
            "tar -zxvf archive.tar.gz or\n",
            "tar -zxvf archive.tgzDecompress the files contained in\n",
            "the zipped and tarred archive called\n",
            "archive\n",
            "./configure Execute the script preparing the\n",
            "installed files for compiling\n",
            "User Administration\n",
            "adduser accountname Create a new user call accountname\n",
            "passwd accountname Give accountname a new password\n",
            "su Log in as superuser from current login\n",
            "exit Stop being superuser and revert to\n",
            "normal user\n",
            "Little known tips and tricks\n",
            "ifconfig List ip addresses for all devices on\n",
            "the machine\n",
            "apropos subject List manual pages for subject\n",
            "usermount Executes graphical application for\n",
            "mounting and unmounting file\n",
            "systems\n"
          ]
        }
      ]
    },
    {
      "cell_type": "markdown",
      "source": [
        "#====="
      ],
      "metadata": {
        "id": "LY72xoXgRo8n"
      }
    },
    {
      "cell_type": "code",
      "source": [
        "!echo \"Helllo, my name is Ala\\n Hello again\\n\\ntesting newline.\" > LLM.txt"
      ],
      "metadata": {
        "id": "JVro99tsRtYH"
      },
      "execution_count": null,
      "outputs": []
    },
    {
      "cell_type": "code",
      "source": [
        "from langchain.text_splitter import RecursiveCharacterTextSplitter\n",
        "\n",
        "# Load a long document\n",
        "with open('LLM.txt', encoding= 'unicode_escape') as f:\n",
        "    sample_text = f.read()"
      ],
      "metadata": {
        "id": "_d131J86RLtb"
      },
      "execution_count": null,
      "outputs": []
    },
    {
      "cell_type": "code",
      "source": [
        "text_splitter = RecursiveCharacterTextSplitter(\n",
        "    chunk_size=50,\n",
        "    chunk_overlap=10,\n",
        "    length_function=len,\n",
        ")"
      ],
      "metadata": {
        "id": "VbD9oy4sRqKV"
      },
      "execution_count": null,
      "outputs": []
    },
    {
      "cell_type": "code",
      "source": [
        "texts = text_splitter.create_documents([sample_text])\n",
        "print(texts)"
      ],
      "metadata": {
        "colab": {
          "base_uri": "https://localhost:8080/"
        },
        "id": "aCLacGWZRzJ1",
        "outputId": "011c0607-91a5-4240-a53c-0f51d5d63666"
      },
      "execution_count": null,
      "outputs": [
        {
          "output_type": "stream",
          "name": "stdout",
          "text": [
            "[Document(page_content='Helllo, my name is Ala\\n Hello again', metadata={}), Document(page_content='testing newline.', metadata={})]\n"
          ]
        }
      ]
    },
    {
      "cell_type": "markdown",
      "source": [
        "#======"
      ],
      "metadata": {
        "id": "hdbQYMtpSVdQ"
      }
    },
    {
      "cell_type": "code",
      "source": [
        "import nltk\n",
        "nltk.download('punkt')"
      ],
      "metadata": {
        "colab": {
          "base_uri": "https://localhost:8080/"
        },
        "id": "iX4fHM6uSkoy",
        "outputId": "bb6e8a8d-35c4-4e8c-cf16-89bac2141758"
      },
      "execution_count": null,
      "outputs": [
        {
          "output_type": "stream",
          "name": "stderr",
          "text": [
            "[nltk_data] Downloading package punkt to /root/nltk_data...\n",
            "[nltk_data]   Unzipping tokenizers/punkt.zip.\n"
          ]
        },
        {
          "output_type": "execute_result",
          "data": {
            "text/plain": [
              "True"
            ]
          },
          "metadata": {},
          "execution_count": 19
        }
      ]
    },
    {
      "cell_type": "code",
      "source": [
        "# Load a long document\n",
        "with open('LLM.txt', encoding= 'unicode_escape') as f:\n",
        "    sample_text = f.read()\n",
        "\n",
        "from langchain.text_splitter import NLTKTextSplitter\n",
        "text_splitter = NLTKTextSplitter(chunk_size=500)\n",
        "\n",
        "\n",
        "texts = text_splitter.split_text(sample_text)\n",
        "print(texts)"
      ],
      "metadata": {
        "colab": {
          "base_uri": "https://localhost:8080/"
        },
        "id": "E4-grTQDR0QY",
        "outputId": "efa3aee6-f08b-407e-d752-d9b221d333fe"
      },
      "execution_count": null,
      "outputs": [
        {
          "output_type": "stream",
          "name": "stdout",
          "text": [
            "['Helllo, my name is Ala\\n Hello again\\n\\ntesting newline.']\n"
          ]
        }
      ]
    },
    {
      "cell_type": "markdown",
      "source": [
        "#======"
      ],
      "metadata": {
        "id": "a5nzGYeLTbNm"
      }
    },
    {
      "cell_type": "code",
      "source": [
        "from langchain.text_splitter import SpacyTextSplitter\n",
        "\n",
        "\n",
        "# Load a long document\n",
        "with open('LLM.txt', encoding= 'unicode_escape') as f:\n",
        "    sample_text = f.read()\n",
        "\n",
        "# Instantiate the SpacyTextSplitter with the desired chunk size\n",
        "text_splitter = SpacyTextSplitter(chunk_size=500, chunk_overlap=20)\n",
        "\n",
        "\n",
        "# Split the text using SpacyTextSplitter\n",
        "texts = text_splitter.split_text(sample_text)\n",
        "\n",
        "# Print the first chunk\n",
        "print(texts)\n"
      ],
      "metadata": {
        "colab": {
          "base_uri": "https://localhost:8080/"
        },
        "id": "xooCnKxQSWnf",
        "outputId": "f6246710-1e99-4ae8-a009-4ffe5e87a44c"
      },
      "execution_count": null,
      "outputs": [
        {
          "output_type": "stream",
          "name": "stdout",
          "text": [
            "['Helllo, my name is Ala\\n \\n\\nHello again\\n\\ntesting newline.']\n"
          ]
        }
      ]
    },
    {
      "cell_type": "markdown",
      "source": [
        "#====="
      ],
      "metadata": {
        "id": "QTOsrDcQYjza"
      }
    },
    {
      "cell_type": "code",
      "source": [
        "from langchain.text_splitter import MarkdownTextSplitter\n",
        "markdown_text = \"\"\"\n",
        "#\n",
        "\n",
        "# Welcome to My Blog!\n",
        "\n",
        "## Introduction\n",
        "Hello everyone! My name is **John Doe** and I am a _software developer_. I specialize in Python, Java, and JavaScript.\n",
        "\n",
        "Here's a list of my favorite programming languages:\n",
        "\n",
        "1. Python\n",
        "2. JavaScript\n",
        "3. Java\n",
        "\n",
        "You can check out some of my projects on [GitHub](https://github.com).\n",
        "\n",
        "## About this Blog\n",
        "In this blog, I will share my journey as a software developer. I'll post tutorials, my thoughts on the latest technology trends, and occasional book reviews.\n",
        "\n",
        "Here's a small piece of Python code to say hello:\n",
        "\n",
        "\\``` python\n",
        "def say_hello(name):\n",
        "    print(f\"Hello, {name}!\")\n",
        "\n",
        "say_hello(\"John\")\n",
        "\\```\n",
        "\n",
        "Stay tuned for more updates!\n",
        "\n",
        "## Contact Me\n",
        "Feel free to reach out to me on [Twitter](https://twitter.com) or send me an email at johndoe@email.com.\n",
        "\n",
        "\"\"\"\n",
        "markdown_splitter = MarkdownTextSplitter(chunk_size=100, chunk_overlap=0)\n",
        "docs = markdown_splitter.create_documents([markdown_text])\n",
        "print(docs)"
      ],
      "metadata": {
        "colab": {
          "base_uri": "https://localhost:8080/"
        },
        "id": "rknT3Bk1Tb3z",
        "outputId": "f2cee5b7-4d85-4503-e84a-22c3264b08df"
      },
      "execution_count": null,
      "outputs": [
        {
          "output_type": "stream",
          "name": "stdout",
          "text": [
            "[Document(page_content='# \\n\\n# Welcome to My Blog!', metadata={}), Document(page_content='Introduction', metadata={}), Document(page_content='Hello everyone! My name is **John Doe** and I am a _software developer_. I specialize in Python,', metadata={}), Document(page_content='Java, and JavaScript.', metadata={}), Document(page_content=\"Here's a list of my favorite programming languages:\\n\\n1. Python\\n2. JavaScript\\n3. Java\", metadata={}), Document(page_content='You can check out some of my projects on [GitHub](https://github.com).', metadata={}), Document(page_content='About this Blog', metadata={}), Document(page_content=\"In this blog, I will share my journey as a software developer. I'll post tutorials, my thoughts on\", metadata={}), Document(page_content='the latest technology trends, and occasional book reviews.', metadata={}), Document(page_content=\"Here's a small piece of Python code to say hello:\", metadata={}), Document(page_content='\\\\``` python\\ndef say_hello(name):\\n    print(f\"Hello, {name}!\")\\n\\nsay_hello(\"John\")\\n\\\\', metadata={}), Document(page_content='Stay tuned for more updates!', metadata={}), Document(page_content='Contact Me', metadata={}), Document(page_content='Feel free to reach out to me on [Twitter](https://twitter.com) or send me an email at', metadata={}), Document(page_content='johndoe@email.com.', metadata={})]\n"
          ]
        }
      ]
    },
    {
      "cell_type": "markdown",
      "source": [
        "#====="
      ],
      "metadata": {
        "id": "FZ2g0KI2Zb-s"
      }
    },
    {
      "cell_type": "code",
      "source": [
        "from langchain.text_splitter import TokenTextSplitter\n",
        "\n",
        "# Load a long document\n",
        "with open('LLM.txt', encoding= 'unicode_escape') as f:\n",
        "    sample_text = f.read()\n",
        "\n",
        "# Initialize the TokenTextSplitter with desired chunk size and overlap\n",
        "text_splitter = TokenTextSplitter(chunk_size=100, chunk_overlap=50)\n",
        "\n",
        "# Split into smaller chunks\n",
        "texts = text_splitter.split_text(sample_text)\n",
        "print(texts[0])"
      ],
      "metadata": {
        "colab": {
          "base_uri": "https://localhost:8080/"
        },
        "id": "MrZxTi2IYl94",
        "outputId": "3353aec4-d822-4752-c621-40b30d303b3b"
      },
      "execution_count": null,
      "outputs": [
        {
          "output_type": "stream",
          "name": "stdout",
          "text": [
            "Helllo, my name is Ala\n",
            " Hello again\n",
            "\n",
            "testing newline.\n",
            "\n"
          ]
        }
      ]
    },
    {
      "cell_type": "code",
      "source": [],
      "metadata": {
        "id": "GggTVv6oZeIh"
      },
      "execution_count": null,
      "outputs": []
    }
  ]
}